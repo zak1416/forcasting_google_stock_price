{
 "cells": [
  {
   "cell_type": "markdown",
   "metadata": {},
   "source": [
    "# .............................. Forcasting Google Stock data by python\n",
    "## ........................................................... Zakarea Mosa\n",
    "## ............................................................201469800\n",
    "## ...................................... Major:Managment Information System\n",
    "##  .................................................................  for\n",
    "## ................................................. Dr. Mohmmed Al-khars\n",
    "## .............................................................. OM-210\n",
    "\n",
    "\n",
    "\n",
    "# Project objective\n",
    "###  This project will try to forcast the closing price of Google stock prises from dataset of Nasdaq website(this dataset has more than 1000 rows) and will compare the forcasted prises with the actual prises. This project will use regression analysis to do the forcasting."
   ]
  },
  {
   "cell_type": "markdown",
   "metadata": {},
   "source": [
    "# Tools used and justification\n",
    "### to discover this huge set of data, MS Excel cannot be used. instead, Python programming language will be used to gain compelete insight, Because python is common tool that specilzed in dealing with this type of issues.  Python has many programming libraries in statistics ."
   ]
  },
  {
   "cell_type": "markdown",
   "metadata": {},
   "source": [
    "### in the two coming code cells , important libararies for this project will be imported\n",
    "### Pandas : this libarary used to load the dataset to this file.\n",
    "### farthermore, it help to show samples of this dataset\n",
    "### numby : this library used to do the numrical operations.\n",
    "### sklearn : in this project I will use this library to do the forcasting by regression method.\n",
    "### matplotlib: this library used to do the data visualization."
   ]
  },
  {
   "cell_type": "code",
   "execution_count": 76,
   "metadata": {},
   "outputs": [],
   "source": [
    "import pandas as pd\n",
    "import numpy as np\n",
    "from sklearn import metrics\n",
    "%matplotlib inline \n",
    "import matplotlib.pyplot as plt"
   ]
  },
  {
   "cell_type": "code",
   "execution_count": 77,
   "metadata": {},
   "outputs": [],
   "source": [
    "df = pd.read_csv('GOOGL.csv')"
   ]
  },
  {
   "cell_type": "markdown",
   "metadata": {},
   "source": [
    "### The above code will load the data into this file by Pandas.\n",
    "### And in the below code first 10 rows of the dataset will be displayed."
   ]
  },
  {
   "cell_type": "code",
   "execution_count": 78,
   "metadata": {},
   "outputs": [
    {
     "data": {
      "text/html": [
       "<div>\n",
       "<style scoped>\n",
       "    .dataframe tbody tr th:only-of-type {\n",
       "        vertical-align: middle;\n",
       "    }\n",
       "\n",
       "    .dataframe tbody tr th {\n",
       "        vertical-align: top;\n",
       "    }\n",
       "\n",
       "    .dataframe thead th {\n",
       "        text-align: right;\n",
       "    }\n",
       "</style>\n",
       "<table border=\"1\" class=\"dataframe\">\n",
       "  <thead>\n",
       "    <tr style=\"text-align: right;\">\n",
       "      <th></th>\n",
       "      <th>Date</th>\n",
       "      <th>Open</th>\n",
       "      <th>High</th>\n",
       "      <th>Low</th>\n",
       "      <th>Close</th>\n",
       "      <th>Adj Close</th>\n",
       "      <th>Volume</th>\n",
       "    </tr>\n",
       "  </thead>\n",
       "  <tbody>\n",
       "    <tr>\n",
       "      <td>0</td>\n",
       "      <td>2015-12-09</td>\n",
       "      <td>771.099976</td>\n",
       "      <td>776.090027</td>\n",
       "      <td>752.010010</td>\n",
       "      <td>762.549988</td>\n",
       "      <td>762.549988</td>\n",
       "      <td>2327500</td>\n",
       "    </tr>\n",
       "    <tr>\n",
       "      <td>1</td>\n",
       "      <td>2015-12-10</td>\n",
       "      <td>763.590027</td>\n",
       "      <td>766.070007</td>\n",
       "      <td>755.000000</td>\n",
       "      <td>760.039978</td>\n",
       "      <td>760.039978</td>\n",
       "      <td>1622900</td>\n",
       "    </tr>\n",
       "    <tr>\n",
       "      <td>2</td>\n",
       "      <td>2015-12-11</td>\n",
       "      <td>749.000000</td>\n",
       "      <td>757.440002</td>\n",
       "      <td>748.650024</td>\n",
       "      <td>750.419983</td>\n",
       "      <td>750.419983</td>\n",
       "      <td>2159200</td>\n",
       "    </tr>\n",
       "    <tr>\n",
       "      <td>3</td>\n",
       "      <td>2015-12-14</td>\n",
       "      <td>751.260010</td>\n",
       "      <td>764.150024</td>\n",
       "      <td>736.260010</td>\n",
       "      <td>762.539978</td>\n",
       "      <td>762.539978</td>\n",
       "      <td>2693200</td>\n",
       "    </tr>\n",
       "    <tr>\n",
       "      <td>4</td>\n",
       "      <td>2015-12-15</td>\n",
       "      <td>767.789978</td>\n",
       "      <td>774.750000</td>\n",
       "      <td>758.000000</td>\n",
       "      <td>760.090027</td>\n",
       "      <td>760.090027</td>\n",
       "      <td>2469300</td>\n",
       "    </tr>\n",
       "    <tr>\n",
       "      <td>5</td>\n",
       "      <td>2015-12-16</td>\n",
       "      <td>766.570007</td>\n",
       "      <td>781.500000</td>\n",
       "      <td>757.049988</td>\n",
       "      <td>776.590027</td>\n",
       "      <td>776.590027</td>\n",
       "      <td>2656000</td>\n",
       "    </tr>\n",
       "    <tr>\n",
       "      <td>6</td>\n",
       "      <td>2015-12-17</td>\n",
       "      <td>781.159973</td>\n",
       "      <td>781.590027</td>\n",
       "      <td>769.299988</td>\n",
       "      <td>769.830017</td>\n",
       "      <td>769.830017</td>\n",
       "      <td>1825500</td>\n",
       "    </tr>\n",
       "    <tr>\n",
       "      <td>7</td>\n",
       "      <td>2015-12-18</td>\n",
       "      <td>767.229980</td>\n",
       "      <td>774.140015</td>\n",
       "      <td>756.590027</td>\n",
       "      <td>756.849976</td>\n",
       "      <td>756.849976</td>\n",
       "      <td>3389700</td>\n",
       "    </tr>\n",
       "    <tr>\n",
       "      <td>8</td>\n",
       "      <td>2015-12-21</td>\n",
       "      <td>763.049988</td>\n",
       "      <td>766.349976</td>\n",
       "      <td>754.150024</td>\n",
       "      <td>760.799988</td>\n",
       "      <td>760.799988</td>\n",
       "      <td>1742400</td>\n",
       "    </tr>\n",
       "    <tr>\n",
       "      <td>9</td>\n",
       "      <td>2015-12-22</td>\n",
       "      <td>764.270020</td>\n",
       "      <td>770.340027</td>\n",
       "      <td>761.200012</td>\n",
       "      <td>767.130005</td>\n",
       "      <td>767.130005</td>\n",
       "      <td>1816900</td>\n",
       "    </tr>\n",
       "  </tbody>\n",
       "</table>\n",
       "</div>"
      ],
      "text/plain": [
       "         Date        Open        High         Low       Close   Adj Close  \\\n",
       "0  2015-12-09  771.099976  776.090027  752.010010  762.549988  762.549988   \n",
       "1  2015-12-10  763.590027  766.070007  755.000000  760.039978  760.039978   \n",
       "2  2015-12-11  749.000000  757.440002  748.650024  750.419983  750.419983   \n",
       "3  2015-12-14  751.260010  764.150024  736.260010  762.539978  762.539978   \n",
       "4  2015-12-15  767.789978  774.750000  758.000000  760.090027  760.090027   \n",
       "5  2015-12-16  766.570007  781.500000  757.049988  776.590027  776.590027   \n",
       "6  2015-12-17  781.159973  781.590027  769.299988  769.830017  769.830017   \n",
       "7  2015-12-18  767.229980  774.140015  756.590027  756.849976  756.849976   \n",
       "8  2015-12-21  763.049988  766.349976  754.150024  760.799988  760.799988   \n",
       "9  2015-12-22  764.270020  770.340027  761.200012  767.130005  767.130005   \n",
       "\n",
       "    Volume  \n",
       "0  2327500  \n",
       "1  1622900  \n",
       "2  2159200  \n",
       "3  2693200  \n",
       "4  2469300  \n",
       "5  2656000  \n",
       "6  1825500  \n",
       "7  3389700  \n",
       "8  1742400  \n",
       "9  1816900  "
      ]
     },
     "execution_count": 78,
     "metadata": {},
     "output_type": "execute_result"
    }
   ],
   "source": [
    "df.head(10)"
   ]
  },
  {
   "cell_type": "code",
   "execution_count": 79,
   "metadata": {},
   "outputs": [],
   "source": [
    "df['Date'] = pd.to_datetime(df.Date)"
   ]
  },
  {
   "cell_type": "code",
   "execution_count": 80,
   "metadata": {},
   "outputs": [],
   "source": [
    "df.drop('Adj Close',axis = 1,inplace= True)"
   ]
  },
  {
   "cell_type": "markdown",
   "metadata": {},
   "source": [
    "### The above code will drop \"Adj Close\" column because it is not needed in this project.\n",
    "\n",
    "\n",
    "\n"
   ]
  },
  {
   "cell_type": "markdown",
   "metadata": {},
   "source": [
    "# Data analysis and Discussion part\n",
    "### this part will discover this dataset and will make a regression model to forcasting."
   ]
  },
  {
   "cell_type": "code",
   "execution_count": 81,
   "metadata": {},
   "outputs": [
    {
     "name": "stdout",
     "output_type": "stream",
     "text": [
      "<class 'pandas.core.frame.DataFrame'>\n",
      "RangeIndex: 1259 entries, 0 to 1258\n",
      "Data columns (total 6 columns):\n",
      "Date      1259 non-null datetime64[ns]\n",
      "Open      1259 non-null float64\n",
      "High      1259 non-null float64\n",
      "Low       1259 non-null float64\n",
      "Close     1259 non-null float64\n",
      "Volume    1259 non-null int64\n",
      "dtypes: datetime64[ns](1), float64(4), int64(1)\n",
      "memory usage: 59.1 KB\n"
     ]
    }
   ],
   "source": [
    "df.info()"
   ]
  },
  {
   "cell_type": "code",
   "execution_count": 82,
   "metadata": {},
   "outputs": [
    {
     "data": {
      "text/plain": [
       "(1259, 6)"
      ]
     },
     "execution_count": 82,
     "metadata": {},
     "output_type": "execute_result"
    }
   ],
   "source": [
    "df.shape"
   ]
  },
  {
   "cell_type": "code",
   "execution_count": 83,
   "metadata": {},
   "outputs": [
    {
     "data": {
      "text/html": [
       "<div>\n",
       "<style scoped>\n",
       "    .dataframe tbody tr th:only-of-type {\n",
       "        vertical-align: middle;\n",
       "    }\n",
       "\n",
       "    .dataframe tbody tr th {\n",
       "        vertical-align: top;\n",
       "    }\n",
       "\n",
       "    .dataframe thead th {\n",
       "        text-align: right;\n",
       "    }\n",
       "</style>\n",
       "<table border=\"1\" class=\"dataframe\">\n",
       "  <thead>\n",
       "    <tr style=\"text-align: right;\">\n",
       "      <th></th>\n",
       "      <th>Open</th>\n",
       "      <th>High</th>\n",
       "      <th>Low</th>\n",
       "      <th>Close</th>\n",
       "      <th>Volume</th>\n",
       "    </tr>\n",
       "  </thead>\n",
       "  <tbody>\n",
       "    <tr>\n",
       "      <td>count</td>\n",
       "      <td>1259.000000</td>\n",
       "      <td>1259.000000</td>\n",
       "      <td>1259.000000</td>\n",
       "      <td>1259.000000</td>\n",
       "      <td>1.259000e+03</td>\n",
       "    </tr>\n",
       "    <tr>\n",
       "      <td>mean</td>\n",
       "      <td>1086.605766</td>\n",
       "      <td>1097.011731</td>\n",
       "      <td>1076.126570</td>\n",
       "      <td>1086.996021</td>\n",
       "      <td>1.835547e+06</td>\n",
       "    </tr>\n",
       "    <tr>\n",
       "      <td>std</td>\n",
       "      <td>252.589317</td>\n",
       "      <td>256.592644</td>\n",
       "      <td>249.640484</td>\n",
       "      <td>253.245127</td>\n",
       "      <td>8.811597e+05</td>\n",
       "    </tr>\n",
       "    <tr>\n",
       "      <td>min</td>\n",
       "      <td>682.489990</td>\n",
       "      <td>683.330017</td>\n",
       "      <td>672.659973</td>\n",
       "      <td>681.140015</td>\n",
       "      <td>5.206000e+05</td>\n",
       "    </tr>\n",
       "    <tr>\n",
       "      <td>25%</td>\n",
       "      <td>847.820007</td>\n",
       "      <td>852.100006</td>\n",
       "      <td>843.505005</td>\n",
       "      <td>849.375000</td>\n",
       "      <td>1.294850e+06</td>\n",
       "    </tr>\n",
       "    <tr>\n",
       "      <td>50%</td>\n",
       "      <td>1084.020020</td>\n",
       "      <td>1094.839966</td>\n",
       "      <td>1070.890015</td>\n",
       "      <td>1084.089966</td>\n",
       "      <td>1.588700e+06</td>\n",
       "    </tr>\n",
       "    <tr>\n",
       "      <td>75%</td>\n",
       "      <td>1224.059998</td>\n",
       "      <td>1236.369995</td>\n",
       "      <td>1214.535034</td>\n",
       "      <td>1225.005005</td>\n",
       "      <td>2.092650e+06</td>\n",
       "    </tr>\n",
       "    <tr>\n",
       "      <td>max</td>\n",
       "      <td>1820.540039</td>\n",
       "      <td>1843.829956</td>\n",
       "      <td>1817.000000</td>\n",
       "      <td>1824.969971</td>\n",
       "      <td>7.039900e+06</td>\n",
       "    </tr>\n",
       "  </tbody>\n",
       "</table>\n",
       "</div>"
      ],
      "text/plain": [
       "              Open         High          Low        Close        Volume\n",
       "count  1259.000000  1259.000000  1259.000000  1259.000000  1.259000e+03\n",
       "mean   1086.605766  1097.011731  1076.126570  1086.996021  1.835547e+06\n",
       "std     252.589317   256.592644   249.640484   253.245127  8.811597e+05\n",
       "min     682.489990   683.330017   672.659973   681.140015  5.206000e+05\n",
       "25%     847.820007   852.100006   843.505005   849.375000  1.294850e+06\n",
       "50%    1084.020020  1094.839966  1070.890015  1084.089966  1.588700e+06\n",
       "75%    1224.059998  1236.369995  1214.535034  1225.005005  2.092650e+06\n",
       "max    1820.540039  1843.829956  1817.000000  1824.969971  7.039900e+06"
      ]
     },
     "execution_count": 83,
     "metadata": {},
     "output_type": "execute_result"
    }
   ],
   "source": [
    "df.describe()"
   ]
  },
  {
   "cell_type": "markdown",
   "metadata": {},
   "source": [
    "### the above codes shows that there are 1259 rows and 6 columns in this dataset. and also found that \n",
    "### the data have 5 variables if date column was ignored."
   ]
  },
  {
   "cell_type": "markdown",
   "metadata": {},
   "source": [
    "### Therefore,  the below codes will divide all variables into 2 sets of array\n",
    "### Independent and dependent.\n",
    "\n",
    "### After that, the regression model will be created using Sklearn library which is imported in the first code."
   ]
  },
  {
   "cell_type": "code",
   "execution_count": 84,
   "metadata": {},
   "outputs": [],
   "source": [
    "ind = df[['Open','High','Low','Volume']]\n",
    "dep = df['Close']"
   ]
  },
  {
   "cell_type": "code",
   "execution_count": 85,
   "metadata": {},
   "outputs": [],
   "source": [
    "from sklearn.model_selection import train_test_split\n",
    "x_train , x_test, y_train, y_test = train_test_split(ind, dep, random_state = 0)"
   ]
  },
  {
   "cell_type": "code",
   "execution_count": 86,
   "metadata": {},
   "outputs": [
    {
     "data": {
      "text/plain": [
       "(944, 4)"
      ]
     },
     "execution_count": 86,
     "metadata": {},
     "output_type": "execute_result"
    }
   ],
   "source": [
    "x_train.shape"
   ]
  },
  {
   "cell_type": "code",
   "execution_count": 87,
   "metadata": {},
   "outputs": [
    {
     "data": {
      "text/plain": [
       "(315, 4)"
      ]
     },
     "execution_count": 87,
     "metadata": {},
     "output_type": "execute_result"
    }
   ],
   "source": [
    "x_test.shape"
   ]
  },
  {
   "cell_type": "code",
   "execution_count": 88,
   "metadata": {},
   "outputs": [],
   "source": [
    "from sklearn.linear_model import LinearRegression\n",
    "from sklearn.metrics import confusion_matrix, accuracy_score\n",
    "regressor = LinearRegression()"
   ]
  },
  {
   "cell_type": "code",
   "execution_count": 89,
   "metadata": {},
   "outputs": [
    {
     "data": {
      "text/plain": [
       "LinearRegression(copy_X=True, fit_intercept=True, n_jobs=None, normalize=False)"
      ]
     },
     "execution_count": 89,
     "metadata": {},
     "output_type": "execute_result"
    }
   ],
   "source": [
    "regressor.fit(x_train,y_train)"
   ]
  },
  {
   "cell_type": "code",
   "execution_count": 90,
   "metadata": {},
   "outputs": [
    {
     "name": "stdout",
     "output_type": "stream",
     "text": [
      "[-5.95366632e-01  8.48408385e-01  7.44703218e-01 -3.78676955e-07]\n"
     ]
    }
   ],
   "source": [
    "print(regressor.coef_)"
   ]
  },
  {
   "cell_type": "code",
   "execution_count": 91,
   "metadata": {},
   "outputs": [],
   "source": [
    "forcasted = regressor.predict(x_test)"
   ]
  },
  {
   "cell_type": "markdown",
   "metadata": {},
   "source": [
    "### In the above codes Linear Regression model was created and the foracsted data are created by  predict method in Sklearn library .\n",
    "### After that , I will load both 'actual close price' and 'forcasted close price'  into one data frame and save as MS Excel file ."
   ]
  },
  {
   "cell_type": "code",
   "execution_count": 92,
   "metadata": {},
   "outputs": [],
   "source": [
    "df_f = pd.DataFrame({'Actual':y_test,'forcasted':forcasted})\n",
    "\n",
    "df_f.to_csv('forcstedVsActual.csv') "
   ]
  },
  {
   "cell_type": "markdown",
   "metadata": {},
   "source": [
    "### The below code will show the first 30 rows of the forcasted data versus the actual to compare how the defrenece."
   ]
  },
  {
   "cell_type": "code",
   "execution_count": 93,
   "metadata": {},
   "outputs": [
    {
     "data": {
      "text/html": [
       "<div>\n",
       "<style scoped>\n",
       "    .dataframe tbody tr th:only-of-type {\n",
       "        vertical-align: middle;\n",
       "    }\n",
       "\n",
       "    .dataframe tbody tr th {\n",
       "        vertical-align: top;\n",
       "    }\n",
       "\n",
       "    .dataframe thead th {\n",
       "        text-align: right;\n",
       "    }\n",
       "</style>\n",
       "<table border=\"1\" class=\"dataframe\">\n",
       "  <thead>\n",
       "    <tr style=\"text-align: right;\">\n",
       "      <th></th>\n",
       "      <th>Actual</th>\n",
       "      <th>forcasted</th>\n",
       "    </tr>\n",
       "  </thead>\n",
       "  <tbody>\n",
       "    <tr>\n",
       "      <td>5</td>\n",
       "      <td>776.590027</td>\n",
       "      <td>771.964385</td>\n",
       "    </tr>\n",
       "    <tr>\n",
       "      <td>494</td>\n",
       "      <td>1056.520020</td>\n",
       "      <td>1057.231223</td>\n",
       "    </tr>\n",
       "    <tr>\n",
       "      <td>52</td>\n",
       "      <td>729.119995</td>\n",
       "      <td>721.525932</td>\n",
       "    </tr>\n",
       "    <tr>\n",
       "      <td>986</td>\n",
       "      <td>1309.000000</td>\n",
       "      <td>1313.787913</td>\n",
       "    </tr>\n",
       "    <tr>\n",
       "      <td>186</td>\n",
       "      <td>808.020020</td>\n",
       "      <td>806.788651</td>\n",
       "    </tr>\n",
       "    <tr>\n",
       "      <td>18</td>\n",
       "      <td>759.330017</td>\n",
       "      <td>761.583400</td>\n",
       "    </tr>\n",
       "    <tr>\n",
       "      <td>317</td>\n",
       "      <td>868.390015</td>\n",
       "      <td>864.730748</td>\n",
       "    </tr>\n",
       "    <tr>\n",
       "      <td>511</td>\n",
       "      <td>1079.780029</td>\n",
       "      <td>1076.279306</td>\n",
       "    </tr>\n",
       "    <tr>\n",
       "      <td>364</td>\n",
       "      <td>964.070007</td>\n",
       "      <td>963.175089</td>\n",
       "    </tr>\n",
       "    <tr>\n",
       "      <td>571</td>\n",
       "      <td>1100.069946</td>\n",
       "      <td>1096.474524</td>\n",
       "    </tr>\n",
       "    <tr>\n",
       "      <td>609</td>\n",
       "      <td>1103.380005</td>\n",
       "      <td>1104.823300</td>\n",
       "    </tr>\n",
       "    <tr>\n",
       "      <td>703</td>\n",
       "      <td>1193.890015</td>\n",
       "      <td>1186.635633</td>\n",
       "    </tr>\n",
       "    <tr>\n",
       "      <td>924</td>\n",
       "      <td>1196.729980</td>\n",
       "      <td>1199.070870</td>\n",
       "    </tr>\n",
       "    <tr>\n",
       "      <td>461</td>\n",
       "      <td>992.309998</td>\n",
       "      <td>996.843177</td>\n",
       "    </tr>\n",
       "    <tr>\n",
       "      <td>742</td>\n",
       "      <td>1027.420044</td>\n",
       "      <td>1036.414466</td>\n",
       "    </tr>\n",
       "    <tr>\n",
       "      <td>957</td>\n",
       "      <td>1221.140015</td>\n",
       "      <td>1220.366608</td>\n",
       "    </tr>\n",
       "    <tr>\n",
       "      <td>923</td>\n",
       "      <td>1174.500000</td>\n",
       "      <td>1175.832233</td>\n",
       "    </tr>\n",
       "    <tr>\n",
       "      <td>1160</td>\n",
       "      <td>1555.920044</td>\n",
       "      <td>1561.063622</td>\n",
       "    </tr>\n",
       "    <tr>\n",
       "      <td>85</td>\n",
       "      <td>771.909973</td>\n",
       "      <td>770.809478</td>\n",
       "    </tr>\n",
       "    <tr>\n",
       "      <td>1250</td>\n",
       "      <td>1764.130005</td>\n",
       "      <td>1753.699963</td>\n",
       "    </tr>\n",
       "    <tr>\n",
       "      <td>927</td>\n",
       "      <td>1179.209961</td>\n",
       "      <td>1176.993523</td>\n",
       "    </tr>\n",
       "    <tr>\n",
       "      <td>124</td>\n",
       "      <td>742.929993</td>\n",
       "      <td>740.651128</td>\n",
       "    </tr>\n",
       "    <tr>\n",
       "      <td>709</td>\n",
       "      <td>1211.530029</td>\n",
       "      <td>1205.835874</td>\n",
       "    </tr>\n",
       "    <tr>\n",
       "      <td>492</td>\n",
       "      <td>1050.300049</td>\n",
       "      <td>1047.936669</td>\n",
       "    </tr>\n",
       "    <tr>\n",
       "      <td>1159</td>\n",
       "      <td>1563.839966</td>\n",
       "      <td>1550.226771</td>\n",
       "    </tr>\n",
       "    <tr>\n",
       "      <td>211</td>\n",
       "      <td>809.570007</td>\n",
       "      <td>813.997188</td>\n",
       "    </tr>\n",
       "    <tr>\n",
       "      <td>907</td>\n",
       "      <td>1131.550049</td>\n",
       "      <td>1137.301538</td>\n",
       "    </tr>\n",
       "    <tr>\n",
       "      <td>1052</td>\n",
       "      <td>1518.729980</td>\n",
       "      <td>1511.222943</td>\n",
       "    </tr>\n",
       "    <tr>\n",
       "      <td>453</td>\n",
       "      <td>959.900024</td>\n",
       "      <td>960.943754</td>\n",
       "    </tr>\n",
       "    <tr>\n",
       "      <td>811</td>\n",
       "      <td>1153.420044</td>\n",
       "      <td>1150.988539</td>\n",
       "    </tr>\n",
       "  </tbody>\n",
       "</table>\n",
       "</div>"
      ],
      "text/plain": [
       "           Actual    forcasted\n",
       "5      776.590027   771.964385\n",
       "494   1056.520020  1057.231223\n",
       "52     729.119995   721.525932\n",
       "986   1309.000000  1313.787913\n",
       "186    808.020020   806.788651\n",
       "18     759.330017   761.583400\n",
       "317    868.390015   864.730748\n",
       "511   1079.780029  1076.279306\n",
       "364    964.070007   963.175089\n",
       "571   1100.069946  1096.474524\n",
       "609   1103.380005  1104.823300\n",
       "703   1193.890015  1186.635633\n",
       "924   1196.729980  1199.070870\n",
       "461    992.309998   996.843177\n",
       "742   1027.420044  1036.414466\n",
       "957   1221.140015  1220.366608\n",
       "923   1174.500000  1175.832233\n",
       "1160  1555.920044  1561.063622\n",
       "85     771.909973   770.809478\n",
       "1250  1764.130005  1753.699963\n",
       "927   1179.209961  1176.993523\n",
       "124    742.929993   740.651128\n",
       "709   1211.530029  1205.835874\n",
       "492   1050.300049  1047.936669\n",
       "1159  1563.839966  1550.226771\n",
       "211    809.570007   813.997188\n",
       "907   1131.550049  1137.301538\n",
       "1052  1518.729980  1511.222943\n",
       "453    959.900024   960.943754\n",
       "811   1153.420044  1150.988539"
      ]
     },
     "execution_count": 93,
     "metadata": {},
     "output_type": "execute_result"
    }
   ],
   "source": [
    "df_f.head(30)"
   ]
  },
  {
   "cell_type": "markdown",
   "metadata": {},
   "source": [
    "### Here I used matplotlip libaray to make a visualization for comparing the actual versus the forcasted for the first 10 rows because more 300 rows and cannot be displayed in one graph."
   ]
  },
  {
   "cell_type": "code",
   "execution_count": 94,
   "metadata": {},
   "outputs": [
    {
     "data": {
      "text/plain": [
       "<matplotlib.axes._subplots.AxesSubplot at 0x23f2c6ca348>"
      ]
     },
     "execution_count": 94,
     "metadata": {},
     "output_type": "execute_result"
    },
    {
     "data": {
      "image/png": "[encoded data removed]",
      "text/plain": [
       "<Figure size 432x288 with 1 Axes>"
      ]
     },
     "metadata": {
      "needs_background": "light"
     },
     "output_type": "display_data"
    }
   ],
   "source": [
    "df_f.head(10).plot(kind='barh')"
   ]
  },
  {
   "cell_type": "code",
   "execution_count": 95,
   "metadata": {},
   "outputs": [
    {
     "name": "stdout",
     "output_type": "stream",
     "text": [
      "MAE: 4.676034871210051\n"
     ]
    }
   ],
   "source": [
    "print('MAE:',metrics.mean_absolute_error(y_test,forcasted))"
   ]
  },
  {
   "cell_type": "markdown",
   "metadata": {},
   "source": [
    "### Mean Absolute Error (MAE): 4.6760    "
   ]
  },
  {
   "cell_type": "markdown",
   "metadata": {},
   "source": [
    "# Conclusion \n",
    "### From the first 30  rows  and the plot of the forcasted and the actual it appears that the regression model has suceeded to forecast the close price signficantly . \n",
    "### Mean Absolute Error (MAE )measures the average magnitude of the errors in a set of predictions, without considering their direction.\n",
    "### in this foracsting model on average, the forecast's distance from the true value is 4.6760. Which implies there no signficant deference between the forcasted and the actual close price which is means the model was almost perfect in forcasting this huge data set."
   ]
  },
  {
   "cell_type": "markdown",
   "metadata": {},
   "source": [
    "### References:\n",
    "### https://finance.yahoo.com/quote/GOOGL/history?period1=1449619200&period2=1607472000&interval=1d&filter=history&frequency=1d&includeAdjustedClose=true\n",
    "### https://www.kaggle.com/\n",
    "### https://scikit-learn.org/stable/modules/generated/sklearn.model_selection.train_test_split.html\n",
    "### https://realpython.com/train-test-split-python-data/"
   ]
  }
 ],
 "metadata": {
  "kernelspec": {
   "display_name": "Python 3",
   "language": "python",
   "name": "python3"
  },
  "language_info": {
   "codemirror_mode": {
    "name": "ipython",
    "version": 3
   },
   "file_extension": ".py",
   "mimetype": "text/x-python",
   "name": "python",
   "nbconvert_exporter": "python",
   "pygments_lexer": "ipython3",
   "version": "3.7.4"
  }
 },
 "nbformat": 4,
 "nbformat_minor": 2
}
